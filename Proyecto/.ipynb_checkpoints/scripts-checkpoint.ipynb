{
 "cells": [
  {
   "cell_type": "code",
   "execution_count": 3,
   "id": "93120a66",
   "metadata": {},
   "outputs": [],
   "source": [
    "import urllib\n",
    "import urllib.request\n",
    "from PIL import Image\n",
    "import os\n",
    "import matplotlib.pyplot as mpimg\n",
    "import numpy as np"
   ]
  },
  {
   "cell_type": "code",
   "execution_count": 4,
   "id": "cc2399c9",
   "metadata": {},
   "outputs": [],
   "source": [
    "#url = \"https://upload.wikimedia.org/wikipedia/commons/e/ee/Nine_steps_stair_in_Lysekil_-_bw.jpg\"\n",
    "url = \"https://phantom-marca.unidadeditorial.es/ef935a6865aba0cc26b5d96094fd1fb4/resize/1320/f/jpg/assets/multimedia/imagenes/2021/07/13/16261646573990.jpg\"\n",
    "urllib.request.urlretrieve(url, \"img.jpg\")\n",
    "img = Image.open(r'img.jpg')\n",
    "img.save(r'imgG.png')\n",
    "img = img.resize((img.size[0]//5, img.size[1]//5), Image.ANTIALIAS)\n",
    "img.save(r'imgP.png')\n",
    "os.remove(\"img.jpg\")"
   ]
  },
  {
   "cell_type": "code",
   "execution_count": 5,
   "id": "b264683c",
   "metadata": {},
   "outputs": [],
   "source": [
    "\n",
    "def RGBtoTXT(name):\n",
    "    img = mpimg.imread(name+'.png')\n",
    "    M,N,_ = img.shape\n",
    "    RGB = np.array([img[:,:,i].reshape(M*N) for i in range(3)])\n",
    "    np.savetxt(name+'.txt', RGB, fmt='%.8f', delimiter=' ', header='%d %d'%(M,N), comments='')\n",
    "\n",
    "def TXTtoRGB(name):\n",
    "    RGB = np.loadtxt(name+'.txt', delimiter=' ', skiprows = 1)\n",
    "    with open(name+'.txt') as imgfile:\n",
    "        M,N = map(int,imgfile.readline().strip().split())\n",
    "    img = np.ones((M,N,4))\n",
    "    for i in range(3):\n",
    "        img[:,:,i] = RGB[i].reshape((M,N)) \n",
    "    mpimg.imsave(name+'_fromfile.png', img)"
   ]
  },
  {
   "cell_type": "code",
   "execution_count": 6,
   "id": "92840473",
   "metadata": {},
   "outputs": [],
   "source": [
    "# Utilizar nombres sin extension\n",
    "# Solo se aceptan imagenes en formato png\n",
    "\n",
    "# Generar archivos de texto:\n",
    "#RGBtoTXT('imgG')\n",
    "RGBtoTXT('imgP')\n",
    "\n",
    "# Generar imagenes\n",
    "TXTtoRGB('salida')"
   ]
  },
  {
   "cell_type": "code",
   "execution_count": null,
   "id": "232db526",
   "metadata": {},
   "outputs": [],
   "source": []
  }
 ],
 "metadata": {
  "kernelspec": {
   "display_name": "Python 3",
   "language": "python",
   "name": "python3"
  },
  "language_info": {
   "codemirror_mode": {
    "name": "ipython",
    "version": 3
   },
   "file_extension": ".py",
   "mimetype": "text/x-python",
   "name": "python",
   "nbconvert_exporter": "python",
   "pygments_lexer": "ipython3",
   "version": "3.8.5"
  }
 },
 "nbformat": 4,
 "nbformat_minor": 5
}
